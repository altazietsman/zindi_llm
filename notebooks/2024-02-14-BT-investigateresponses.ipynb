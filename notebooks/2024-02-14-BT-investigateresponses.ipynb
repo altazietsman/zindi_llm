{
 "cells": [
  {
   "cell_type": "code",
   "execution_count": 12,
   "metadata": {},
   "outputs": [],
   "source": [
    "import pandas as pd"
   ]
  },
  {
   "cell_type": "code",
   "execution_count": 13,
   "metadata": {},
   "outputs": [],
   "source": [
    "train_responses = pd.read_csv('../data/train_responses.csv')"
   ]
  },
  {
   "cell_type": "code",
   "execution_count": 14,
   "metadata": {},
   "outputs": [
    {
     "data": {
      "text/html": [
       "<div>\n",
       "<style scoped>\n",
       "    .dataframe tbody tr th:only-of-type {\n",
       "        vertical-align: middle;\n",
       "    }\n",
       "\n",
       "    .dataframe tbody tr th {\n",
       "        vertical-align: top;\n",
       "    }\n",
       "\n",
       "    .dataframe thead th {\n",
       "        text-align: right;\n",
       "    }\n",
       "</style>\n",
       "<table border=\"1\" class=\"dataframe\">\n",
       "  <thead>\n",
       "    <tr style=\"text-align: right;\">\n",
       "      <th></th>\n",
       "      <th>Keywords</th>\n",
       "      <th>Answer</th>\n",
       "      <th>actual_answer</th>\n",
       "      <th>ID</th>\n",
       "      <th>Question</th>\n",
       "      <th>rouge_score</th>\n",
       "    </tr>\n",
       "  </thead>\n",
       "  <tbody>\n",
       "    <tr>\n",
       "      <th>0</th>\n",
       "      <td>['Laboratory confirmation methods', 'Laborator...</td>\n",
       "      <td>Laboratory confirmation methods for Chikungun...</td>\n",
       "      <td>Chikungunya is confirmed using serological tes...</td>\n",
       "      <td>Q829</td>\n",
       "      <td>Compare the laboratory confirmation methods fo...</td>\n",
       "      <td>0.282353</td>\n",
       "    </tr>\n",
       "    <tr>\n",
       "      <th>1</th>\n",
       "      <td>['Anthrax diagnosis', 'bloody vomit', 'time to...</td>\n",
       "      <td>The best time to collect a specimen for Anthr...</td>\n",
       "      <td>Specimens should be collected during the vesic...</td>\n",
       "      <td>Q721</td>\n",
       "      <td>When should specimens be collected for Anthrax...</td>\n",
       "      <td>0.301075</td>\n",
       "    </tr>\n",
       "    <tr>\n",
       "      <th>2</th>\n",
       "      <td>['date of admission', 'diagnosis or symptoms',...</td>\n",
       "      <td>During a register review, key information to ...</td>\n",
       "      <td>During a register review, key information abou...</td>\n",
       "      <td>Q464</td>\n",
       "      <td>Which key information should be recorded durin...</td>\n",
       "      <td>0.503497</td>\n",
       "    </tr>\n",
       "    <tr>\n",
       "      <th>3</th>\n",
       "      <td>['enable effective coordination', 'District lo...</td>\n",
       "      <td>The District log of suspected outbreaks and a...</td>\n",
       "      <td>The log includes information about response ac...</td>\n",
       "      <td>Q449</td>\n",
       "      <td>Why is the District log of suspected outbreaks...</td>\n",
       "      <td>0.500000</td>\n",
       "    </tr>\n",
       "    <tr>\n",
       "      <th>4</th>\n",
       "      <td>['identifying potential community', 'based sur...</td>\n",
       "      <td>Community based surveillance strategies focus...</td>\n",
       "      <td>Community-based surveillance strategies focus ...</td>\n",
       "      <td>Q6</td>\n",
       "      <td>What do Community based surveillance strategie...</td>\n",
       "      <td>0.389937</td>\n",
       "    </tr>\n",
       "  </tbody>\n",
       "</table>\n",
       "</div>"
      ],
      "text/plain": [
       "                                            Keywords  \\\n",
       "0  ['Laboratory confirmation methods', 'Laborator...   \n",
       "1  ['Anthrax diagnosis', 'bloody vomit', 'time to...   \n",
       "2  ['date of admission', 'diagnosis or symptoms',...   \n",
       "3  ['enable effective coordination', 'District lo...   \n",
       "4  ['identifying potential community', 'based sur...   \n",
       "\n",
       "                                              Answer  \\\n",
       "0   Laboratory confirmation methods for Chikungun...   \n",
       "1   The best time to collect a specimen for Anthr...   \n",
       "2   During a register review, key information to ...   \n",
       "3   The District log of suspected outbreaks and a...   \n",
       "4   Community based surveillance strategies focus...   \n",
       "\n",
       "                                       actual_answer    ID  \\\n",
       "0  Chikungunya is confirmed using serological tes...  Q829   \n",
       "1  Specimens should be collected during the vesic...  Q721   \n",
       "2  During a register review, key information abou...  Q464   \n",
       "3  The log includes information about response ac...  Q449   \n",
       "4  Community-based surveillance strategies focus ...    Q6   \n",
       "\n",
       "                                            Question  rouge_score  \n",
       "0  Compare the laboratory confirmation methods fo...     0.282353  \n",
       "1  When should specimens be collected for Anthrax...     0.301075  \n",
       "2  Which key information should be recorded durin...     0.503497  \n",
       "3  Why is the District log of suspected outbreaks...     0.500000  \n",
       "4  What do Community based surveillance strategie...     0.389937  "
      ]
     },
     "execution_count": 14,
     "metadata": {},
     "output_type": "execute_result"
    }
   ],
   "source": [
    "train_responses.head()"
   ]
  },
  {
   "cell_type": "code",
   "execution_count": 15,
   "metadata": {},
   "outputs": [
    {
     "data": {
      "text/plain": [
       "'Compare the laboratory confirmation methods for Chikungunya and diabetes, and which diseases are diagnosed through blood glucose measurements?'"
      ]
     },
     "execution_count": 15,
     "metadata": {},
     "output_type": "execute_result"
    }
   ],
   "source": [
    "train_responses.iloc[0, 4]"
   ]
  },
  {
   "cell_type": "code",
   "execution_count": 16,
   "metadata": {},
   "outputs": [
    {
     "data": {
      "text/plain": [
       "' Laboratory confirmation methods for Chikungunya and diabetes differ in their diagnostic procedures. Chikungunya is diagnosed through serological tests such as IgM antibody detection in blood or urine samples, while diabetes is diagnosed through blood glucose measurements, including fasting plasma glucose (FPG) and random plasma glucose (RPG). Both diseases require blood or other body fluid samples for diagnosis. Other diseases diagnosed through blood glucose measurements include diabetes mellitus, hypoglycemia, and hyperglycemia.'"
      ]
     },
     "execution_count": 16,
     "metadata": {},
     "output_type": "execute_result"
    }
   ],
   "source": [
    "train_responses.iloc[0, 1]"
   ]
  },
  {
   "cell_type": "code",
   "execution_count": 17,
   "metadata": {},
   "outputs": [
    {
     "data": {
      "text/plain": [
       "'Chikungunya is confirmed using serological tests and PCR, while diabetes diagnosis involves blood glucose measurements.'"
      ]
     },
     "execution_count": 17,
     "metadata": {},
     "output_type": "execute_result"
    }
   ],
   "source": [
    "train_responses.iloc[0, 2]"
   ]
  },
  {
   "cell_type": "code",
   "execution_count": 18,
   "metadata": {},
   "outputs": [
    {
     "data": {
      "text/plain": [
       "0.35595895170991093"
      ]
     },
     "execution_count": 18,
     "metadata": {},
     "output_type": "execute_result"
    }
   ],
   "source": [
    "train_responses.loc[:, 'rouge_score'].mean()"
   ]
  },
  {
   "cell_type": "code",
   "execution_count": null,
   "metadata": {},
   "outputs": [],
   "source": []
  }
 ],
 "metadata": {
  "kernelspec": {
   "display_name": "zindi-llm-2",
   "language": "python",
   "name": "python3"
  },
  "language_info": {
   "codemirror_mode": {
    "name": "ipython",
    "version": 3
   },
   "file_extension": ".py",
   "mimetype": "text/x-python",
   "name": "python",
   "nbconvert_exporter": "python",
   "pygments_lexer": "ipython3",
   "version": "3.11.7"
  }
 },
 "nbformat": 4,
 "nbformat_minor": 2
}
